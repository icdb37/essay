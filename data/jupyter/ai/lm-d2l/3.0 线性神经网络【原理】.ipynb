{
 "cells": [
  {
   "cell_type": "markdown",
   "id": "f5b2a62a",
   "metadata": {},
   "source": [
    "# 线性神经网络\n",
    "\n",
    "回归（regression）是能为一个或多个自变量与因变量之间关系建模的一类方法。 在自然科学和社会科学领域，回归经常用来表示输入和输出之间的关系，在机器学习领域中的大多数任务通常都与预测（prediction）有关。\n",
    "\n",
    "\n",
    "## 线性回归\n",
    "线性回归基于几个简单的假设：  \n",
    "1. 假设自变量$\\mathbf{x}$ 与因变量 $y$ 之间关系是线性的，即 $y$ 可以表示为 $\\mathbf{x}$ 中元素的加权和（可能存在噪声）。\n",
    "2. 假设任何噪声都比较正常，如噪声遵循正态分布。\n",
    "\n",
    "### 线性模型\n",
    "\n",
    "例如：根据房屋的面积（平方英尺）和房龄（年）来估算房屋价格（美元） $price = w_{area}* area + w_{age} * age + b$\n",
    "* $w_{area}$ 和 $w_{age}$ 为权重，权重决定了每个特征对我们预测值的影响\n",
    "* $b$ 为偏置（bias）、偏移量（offset）、截距（intercept）。 偏置是指当所有特征都取值为0时，预测值应该为多少。\n",
    "\n",
    "仿射变换的特点是通过加权和对特征进行线性变换（linear transformation）， 并通过偏置项来进行平移（translation）。\n",
    "\n",
    "给定一个数据集，我们的目标是寻找模型的权重$w$和偏置$b$， 使得根据模型做出的预测大体符合数据里的真实价格。输出的预测值由输入特征通过线性模型的仿射变换决定，仿射变换由所选权重和偏置确定。\n",
    "\n",
    "当我们的输入包含个特征时，我们将预测结果 $\\hat{y}$\n",
    "\n",
    "$$\\hat{y} = w_{1}x_{1} + \\cdots + w_{d}x_{d} + b$$\n",
    "\n",
    "将所有特征放到向量$\\mathbf{x} \\in \\mathbb{R}^{n}$ 中，并将所有权重放到向量 $\\mathbf{w} \\in \\mathbb{R}^{d}$ 中，简洁的表示为： $\\hat{y} = \\mathbf{w}^{\\top}\\mathbf{x} + b$ 向量 $\\mathbf{x}$ 对应于单个数据样本的特征。使用符号$\\mathbf{X} \\in \\mathbb{R}^{n \\times d}$ 可以很方便地引用我们整个数据集的 $n$ 个样本。其中 $\\mathbf{X}$ 的每一行是一个样本，每一列是一种特征。\n",
    "\n",
    "对于特征集合 $\\mathbf{X}$ ，预测值 $\\hat{y| \\in \\mathbb{R}^{n}$ 通过矩阵-向量乘法表示为：$\\hat{y} = \\mathbf{X}\\mathbf{w} + b$\n",
    "\n",
    "\n"
   ]
  }
 ],
 "metadata": {
  "kernelspec": {
   "display_name": "Python 3 (ipykernel)",
   "language": "python",
   "name": "python3"
  },
  "language_info": {
   "codemirror_mode": {
    "name": "ipython",
    "version": 3
   },
   "file_extension": ".py",
   "mimetype": "text/x-python",
   "name": "python",
   "nbconvert_exporter": "python",
   "pygments_lexer": "ipython3",
   "version": "3.9.21"
  }
 },
 "nbformat": 4,
 "nbformat_minor": 5
}
