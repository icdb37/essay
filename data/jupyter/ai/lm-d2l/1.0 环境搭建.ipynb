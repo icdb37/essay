{
 "cells": [
  {
   "cell_type": "markdown",
   "id": "53af3828",
   "metadata": {},
   "source": [
    "## 参考\n",
    "https://zh-v2.d2l.ai\n",
    "\n",
    "\n",
    "## 安装\n",
    "\n",
    "\n",
    "```sh\n",
    "wget https://mirrors.tuna.tsinghua.edu.cn/anaconda/miniconda/Miniconda3-py312_24.9.2-0-Linux-x86_64.sh\n",
    "bash ./Miniconda3-py312_24.9.2-0-Linux-x86_64.sh\n",
    "```\n",
    "\n",
    "```sh\n",
    "conda create --name d2l python=3.9 -y\n",
    "conda activate d2l\n",
    "conda install -c conda-forge jupyter_contrib_nbextensions\n",
    "\n",
    "# jupyter 配置\n",
    "pip install jupyter\n",
    "pip install jupyterlab_code_formatter\n",
    "pip install yapf\n",
    "jupyter nbextension enable toc2/main\n",
    "jupyter nbextension enable code_prettify/code_prettify\n",
    "jupyter nbextension enable hinterland/hinterland\n",
    "jupyter nbextension enable collapsible_headings/main\n",
    "jupyter nbextension enable execute_time/ExecuteTime\n",
    "jupyter nbextension enable highlight_selected_word/main\n",
    "\n",
    "\n",
    "# 机器学习框架\n",
    "pip install torch==1.12.0\n",
    "pip install torchvision==0.13.0\n",
    "pip install d2l==0.17\n",
    "```\n"
   ]
  }
 ],
 "metadata": {
  "kernelspec": {
   "display_name": "Python 3 (ipykernel)",
   "language": "python",
   "name": "python3"
  },
  "language_info": {
   "codemirror_mode": {
    "name": "ipython",
    "version": 3
   },
   "file_extension": ".py",
   "mimetype": "text/x-python",
   "name": "python",
   "nbconvert_exporter": "python",
   "pygments_lexer": "ipython3",
   "version": "3.9.21"
  }
 },
 "nbformat": 4,
 "nbformat_minor": 5
}
