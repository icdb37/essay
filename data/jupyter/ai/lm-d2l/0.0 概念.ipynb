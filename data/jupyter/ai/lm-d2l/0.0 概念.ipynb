{
 "cells": [
  {
   "cell_type": "markdown",
   "id": "5eb4c0c0",
   "metadata": {},
   "source": [
    "# 概念\n",
    "\n",
    "收集到的真实的数据集为：**训练数据集**（training data set）**训练集**（training set）\n",
    "\n",
    "每行数据：**样本**（sample） **数据点**（data point）**数据样本**（data instance）\n",
    "\n",
    "预测的目标为：**标签**（label） **目标**（target）\n",
    "\n",
    "预测所依据的自变量为：**特征**（feature） **协变量**（covariate）\n",
    "\n",
    "通常，使用 $n$ 来表示数据集中的样本数。对索引为 $i$ 的样本，其输入表示为 $ \\mathbf{x}^{(i)} = \\left[ x_1^{(i)},x_2^{(i)} \\right]^{\\top}$ ，其对应的标签为 $y^{(i)}$"
   ]
  }
 ],
 "metadata": {
  "kernelspec": {
   "display_name": "Python 3 (ipykernel)",
   "language": "python",
   "name": "python3"
  },
  "language_info": {
   "codemirror_mode": {
    "name": "ipython",
    "version": 3
   },
   "file_extension": ".py",
   "mimetype": "text/x-python",
   "name": "python",
   "nbconvert_exporter": "python",
   "pygments_lexer": "ipython3",
   "version": "3.9.21"
  }
 },
 "nbformat": 4,
 "nbformat_minor": 5
}
